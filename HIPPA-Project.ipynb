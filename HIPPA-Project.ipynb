{
 "cells": [
  {
   "cell_type": "code",
   "execution_count": null,
   "id": "95d8f294",
   "metadata": {},
   "outputs": [],
   "source": [
    "# Schedule Library imported\n",
    "import schedule\n",
    "import time\n",
    "import pyttsx3\n",
    "import datetime\n",
    "import pygame\n",
    "import random"
   ]
  },
  {
   "cell_type": "code",
   "execution_count": null,
   "id": "b2e7515a",
   "metadata": {},
   "outputs": [],
   "source": [
    "one_hour = datetime.timedelta(minutes=1)\n",
    "now = datetime.datetime.now()\n",
    "(now + one_hour).strftime(\"%H:%M:%S\")"
   ]
  },
  {
   "cell_type": "code",
   "execution_count": null,
   "id": "eb4c2eee",
   "metadata": {},
   "outputs": [],
   "source": [
    "engine=pyttsx3.init('sapi5')\n",
    "voices=engine.getProperty('voices')\n",
    "engine.setProperty('rate', 196)\n",
    "engine.setProperty('volume', 2.7)\n",
    "engine.setProperty('voice',voices[1].id) #0 indicates Male voice , 1 indicates Female voice"
   ]
  },
  {
   "cell_type": "code",
   "execution_count": null,
   "id": "cc8a5a6e",
   "metadata": {},
   "outputs": [],
   "source": [
    "def speak(text):\n",
    "    engine.say(text)\n",
    "    engine.runAndWait()"
   ]
  },
  {
   "cell_type": "code",
   "execution_count": null,
   "id": "e72d44c4",
   "metadata": {},
   "outputs": [],
   "source": [
    "wakeuptrigger = 1\n",
    "getTime = 0\n",
    "\n",
    "def scheduleTime():\n",
    "    now = datetime.datetime.now()\n",
    "    one_hour = datetime.timedelta(minutes=1)\n",
    "    dateTime = (now + one_hour).strftime(\"%H:%M:%S\")\n",
    "    print(dateTime)\n",
    "    return dateTime\n",
    "    \n",
    "def playSong(song):\n",
    "    pygame.init()\n",
    "    # Load the music file\n",
    "    pygame.mixer.music.load(song)\n",
    "    # Play the music file\n",
    "    pygame.mixer.music.play()\n",
    "    # Wait for 5 seconds\n",
    "    time.sleep(5)\n",
    "    # Stop the music playback\n",
    "    pygame.mixer.music.stop()\n",
    "    \n",
    "def waitForwakeuptrigger():\n",
    "     if wakeuptrigger == 1:\n",
    "            #global getTime\n",
    "            #getTime = datetime.datetime.now().strftime(\"%H:%M:%S\")\n",
    "            #print(getTime)\n",
    "            wakeup()\n",
    "            return schedule.CancelJob\n",
    "    \n",
    "def wakeup():\n",
    "    speak(\"Hello,Good Morning\")\n",
    "    # Define a list of exercise songs\n",
    "    exercise_songs = ['./Songs/HereComesTheSun.mp3', './Songs/BreakfastAtTiffany.mp3']\n",
    "    # Randomly select a song from the list\n",
    "    song_choice = random.choice(exercise_songs)\n",
    "    playSong(song_choice)\n",
    "    scheduleTime()\n",
    "    schedule.every().day.at(scheduleTime()).do(breakfast)\n",
    "    \n",
    "def breakfast():\n",
    "    speak(\"Hello,BreakfastTime\") \n",
    "    breakfast_songs = ['./Songs/HereComesTheSun.mp3', './Songs/BreakfastAtTiffany.mp3']\n",
    "    playSong( random.choice(breakfast_songs))\n",
    "    scheduleTime()\n",
    "    schedule.every().day.at(scheduleTime()).do(exercise)\n",
    "    \n",
    "def exercise():\n",
    "    speak(\"Hello,exercise time\")  \n",
    "    exercise_songs = ['./Songs/HereComesTheSun.mp3', './Songs/BreakfastAtTiffany.mp3']\n",
    "    playSong( random.choice(exercise_songs))\n",
    "    \n",
    "def lunch():\n",
    "    speak(\"Hello,exercise time\")  \n",
    "    lunch_songs = ['./Songs/HereComesTheSun.mp3', './Songs/BreakfastAtTiffany.mp3']\n",
    "    playSong( random.choice(lunch_songs))\n",
    "    \n",
    "# Run every 5 to 10 seconds.\n",
    "job = schedule.every(5).to(10).seconds.do(waitForwakeuptrigger)\n",
    "\n",
    "\n",
    "# Loop so that the scheduling task\n",
    "# keeps on running all time.\n",
    "while True:\n",
    "\n",
    "\t# Checks whether a scheduled task\n",
    "\t# is pending to run or not\n",
    "\tschedule.run_pending()\n",
    "\ttime.sleep(1)\n"
   ]
  },
  {
   "cell_type": "code",
   "execution_count": null,
   "id": "c47227e0",
   "metadata": {},
   "outputs": [],
   "source": []
  }
 ],
 "metadata": {
  "kernelspec": {
   "display_name": "Python 3 (ipykernel)",
   "language": "python",
   "name": "python3"
  },
  "language_info": {
   "codemirror_mode": {
    "name": "ipython",
    "version": 3
   },
   "file_extension": ".py",
   "mimetype": "text/x-python",
   "name": "python",
   "nbconvert_exporter": "python",
   "pygments_lexer": "ipython3",
   "version": "3.9.12"
  }
 },
 "nbformat": 4,
 "nbformat_minor": 5
}
